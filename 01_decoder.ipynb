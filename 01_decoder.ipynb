{
 "cells": [
  {
   "cell_type": "code",
   "execution_count": 8,
   "metadata": {
    "pycharm": {
     "is_executing": false
    }
   },
   "outputs": [
    {
     "name": "stdout",
     "text": [
      "The autoreload extension is already loaded. To reload it, use:\n",
      "  %reload_ext autoreload\n"
     ],
     "output_type": "stream"
    }
   ],
   "source": [
    "%load_ext autoreload\n",
    "%autoreload 2"
   ]
  },
  {
   "cell_type": "code",
   "execution_count": 9,
   "metadata": {
    "pycharm": {
     "is_executing": false
    }
   },
   "outputs": [],
   "source": [
    "# default_exp decoder"
   ]
  },
  {
   "cell_type": "code",
   "execution_count": 10,
   "metadata": {
    "pycharm": {
     "is_executing": false
    }
   },
   "outputs": [],
   "source": [
    "#hide\n",
    "from nbdev.showdoc import *\n",
    "from fastcore.test import *"
   ]
  },
  {
   "cell_type": "code",
   "execution_count": 11,
   "metadata": {
    "pycharm": {
     "is_executing": false
    }
   },
   "outputs": [],
   "source": [
    "#export\n",
    "import pandas as pd # package for high-performance, easy-to-use data structures and data analysis\n",
    "import numpy as np # fundamental package for scientific computing with Python\n",
    "import matplotlib\n",
    "import matplotlib.pyplot as plt # for plotting\n",
    "\n",
    "import re\n",
    "\n",
    "import string\n",
    "import gc\n",
    "\n",
    "from fastai2.basics import *\n",
    "from fastai2.text.all import *\n",
    "from fastai2.callback.all import *\n",
    "import pickle\n",
    "import os"
   ]
  },
  {
   "cell_type": "code",
   "execution_count": 12,
   "metadata": {
    "pycharm": {
     "is_executing": false
    }
   },
   "outputs": [],
   "source": [
    "data_path = Path(\"/home/mrdbarros/projetos/data/gquest_data/\")"
   ]
  },
  {
   "cell_type": "code",
   "execution_count": 13,
   "metadata": {
    "pycharm": {
     "is_executing": false
    }
   },
   "outputs": [
    {
     "name": "stdout",
     "text": [
      "Reading data...\n",
      "Reading data completed\n"
     ],
     "output_type": "stream"
    }
   ],
   "source": [
    "#export\n",
    "print('Reading data...')\n",
    "train_data = pd.read_csv(data_path/'train/train.csv')\n",
    "test_data = pd.read_csv(data_path/'test/test.csv')\n",
    "sample_submission = pd.read_csv(str(data_path/'sample_submission.csv'))\n",
    "print('Reading data completed')"
   ]
  },
  {
   "cell_type": "code",
   "execution_count": 14,
   "metadata": {
    "pycharm": {
     "is_executing": false
    }
   },
   "outputs": [
    {
     "data": {
      "text/plain": "Index(['qa_id', 'question_title', 'question_body', 'question_user_name',\n       'question_user_page', 'answer', 'answer_user_name', 'answer_user_page',\n       'url', 'category', 'host', 'question_asker_intent_understanding',\n       'question_body_critical', 'question_conversational',\n       'question_expect_short_answer', 'question_fact_seeking',\n       'question_has_commonly_accepted_answer',\n       'question_interestingness_others', 'question_interestingness_self',\n       'question_multi_intent', 'question_not_really_a_question',\n       'question_opinion_seeking', 'question_type_choice',\n       'question_type_compare', 'question_type_consequence',\n       'question_type_definition', 'question_type_entity',\n       'question_type_instructions', 'question_type_procedure',\n       'question_type_reason_explanation', 'question_type_spelling',\n       'question_well_written', 'answer_helpful',\n       'answer_level_of_information', 'answer_plausible', 'answer_relevance',\n       'answer_satisfaction', 'answer_type_instructions',\n       'answer_type_procedure', 'answer_type_reason_explanation',\n       'answer_well_written'],\n      dtype='object')"
     },
     "metadata": {},
     "output_type": "execute_result",
     "execution_count": 14
    }
   ],
   "source": [
    "train_data.columns"
   ]
  },
  {
   "cell_type": "code",
   "execution_count": 15,
   "metadata": {
    "pycharm": {
     "is_executing": false
    }
   },
   "outputs": [
    {
     "data": {
      "text/plain": "['xxunk',\n 'xxpad',\n 'xxbos',\n 'xxeos',\n 'xxfld',\n 'xxrep',\n 'xxwrep',\n 'xxup',\n 'xxmaj',\n '/',\n 'the',\n ',',\n '-',\n '.',\n 'to',\n '\\n▁',\n 'a',\n ':',\n ')',\n 'i',\n 'is',\n '\\n\\n',\n 'and',\n 'of',\n '\"',\n '(',\n 'in',\n '\\n',\n 'it',\n 'that',\n '\\\\',\n 'you',\n '$',\n 'for',\n ';',\n 'this',\n '?',\n '=',\n 'users',\n 'https',\n '}',\n \"'\",\n 'with',\n 'on',\n 'be',\n '3',\n '1',\n 'if',\n '>',\n 'have',\n 'as',\n 'not',\n 'can',\n 'are',\n '<',\n '2',\n '{',\n 'or',\n 'but',\n 'do',\n '\\n\\n\\n',\n '4',\n 'http',\n 'from',\n '5',\n 'my',\n \"'s\",\n \"n't\",\n '10',\n '6',\n 'an',\n ']',\n '7',\n '8',\n 'questions',\n '9',\n '\\n\\n▁',\n 'so',\n 'how',\n 'what',\n 'at',\n 'your',\n 'there',\n 'will',\n 'would',\n 'stackoverflow.com',\n 'by',\n 'use',\n 'one',\n 'when',\n 'which',\n 'like',\n 'all',\n '0',\n 'some',\n 'does',\n '&',\n 'get',\n 'any',\n 'using',\n 'they',\n 'then',\n '[',\n 'was',\n '*',\n 'just',\n 'more',\n 'should',\n 'has',\n '+',\n 'we',\n 'other',\n 'want',\n '#',\n \"'m\",\n 'need',\n 'only',\n 'way',\n 'no',\n 'about',\n 'am',\n 'up',\n 'time',\n 'also',\n 'new',\n 'out',\n 'could',\n 'technology',\n 'code',\n '…',\n 'where',\n 'me',\n 'make',\n '!',\n 'file',\n 'here',\n 'same',\n 'than',\n 'them',\n 'know',\n 'into',\n 'work',\n 'two',\n 'set',\n 'data',\n 'see',\n 'because',\n '\\n\\n\\n▁',\n 'first',\n 'why',\n 'question',\n 'after',\n 'used',\n 'example',\n 'now',\n 'these',\n 'find',\n 'their',\n 'function',\n '%',\n '_',\n 'problem',\n 'he',\n \"'ve\",\n 'something',\n 'x',\n 'good',\n 'even',\n 'user',\n 'page',\n 'very',\n 'each',\n 'may',\n 'different',\n 'been',\n 'server',\n 'think',\n 'right',\n 'return',\n 'such',\n 'c',\n 'much',\n 'class',\n 'most',\n 'between',\n 'another',\n 'value',\n 'its',\n 'stackoverflow',\n 'add',\n 'since',\n 'list',\n 'did',\n 'go',\n 'however',\n 'still',\n 'error',\n '|',\n 'string',\n 'number',\n 'name',\n 'd',\n 'help',\n 'case',\n 'without',\n 'possible',\n 'create',\n 'had',\n 'well',\n 'end',\n 'system',\n 'while',\n 'might',\n 'before',\n 'many',\n 'public',\n 'line',\n 'try',\n 'change',\n 'following',\n 'etc',\n 'really',\n 'ca',\n 'through',\n 'say',\n 'being',\n 'take',\n 'over',\n \"'re\",\n 'answer',\n 'text',\n 'image',\n '\\n\\n\\n\\n',\n 'who',\n 'both',\n 'people',\n 'table',\n 'files',\n 'point',\n 'int',\n 'culture',\n 'were',\n 'b',\n 'run',\n 'type',\n 'back',\n 'better',\n 'else',\n 'trying',\n 'too',\n 'look',\n 'field',\n 'key',\n 'able',\n 'sure',\n 'off',\n 'start',\n 'english.stackexchange.com',\n 'current',\n 'superuser.com',\n 'going',\n 'read',\n 'best',\n 'seems',\n 'electronics.stackexchange.com',\n 'things',\n 'method',\n 'every',\n 'down',\n 'found',\n 'script',\n 'w',\n 'edit',\n 'access',\n 'left',\n 'site',\n 'application',\n 'serverfault.com',\n 'let',\n 'looking',\n 'his',\n 'those',\n \"'d\",\n 'part',\n 'android',\n 'science',\n 'size',\n 'update',\n 'long',\n 'y',\n '--',\n 'object',\n 'output',\n 'working',\n 'works',\n 'array',\n 'select',\n 'running',\n 'true',\n 'lot',\n 'our',\n 'instead',\n 'form',\n 'check',\n 'php',\n 'actually',\n 'show',\n 'windows',\n 'information',\n \"'ll\",\n 'app',\n 'math.stackexchange.com',\n 'order',\n 'word',\n 'though',\n 'give',\n 'second',\n 'put',\n 'thanks',\n 'above',\n 'source',\n 'own',\n 'simple',\n 'less',\n 'version',\n 'tried',\n 'around',\n 'life_arts',\n 'solution',\n 'done',\n 'having',\n 'always',\n 's',\n 'bit',\n 'var',\n 'times',\n 'database',\n 'based',\n 'already',\n 'given',\n 'thing',\n 'again',\n 'power',\n 'call',\n 'either',\n 'values',\n 'post',\n 'probably',\n 'doing',\n 'div',\n 'result',\n 'e',\n 'non',\n 'option',\n 'group',\n 'must',\n 'physics.stackexchange.com',\n 'view',\n 'last',\n 'few',\n 'game',\n 'input',\n '\\n▁\\n▁',\n 'never',\n 'means',\n 'open',\n 'link',\n 'level',\n 'null',\n 'mean',\n 'specific',\n 'f',\n 'command',\n 'web',\n 'issue',\n 'write',\n 'understand',\n '..',\n 'note',\n 'single',\n 'n',\n 'high',\n 'top',\n 'correct',\n 'small',\n 'content',\n 'difference',\n 'please',\n 'someone',\n 'idea',\n 'enough',\n 'getting',\n 'anyone',\n 'multiple',\n 'least',\n 'made',\n 'button',\n 'p',\n 'next',\n 'query',\n 'm',\n 'default',\n 'message',\n 'called',\n 'space',\n 'tex.stackexchange.com',\n 'anything',\n 'once',\n 'install',\n 'similar',\n 'below',\n 'got',\n 'far',\n 'device',\n 't',\n 'side',\n 'said',\n 'service',\n 'us',\n 'project',\n 'keep',\n 'reason',\n 'process',\n 'network',\n 'wrong',\n 'test',\n 'google',\n 'simply',\n 'often',\n 'old',\n 'little',\n 'tell',\n 'main',\n 'column',\n 'images',\n 'path',\n 'kind',\n 'remove',\n 'quite',\n 'display',\n 'voltage',\n 'sql',\n 'static',\n 'usually',\n 'course',\n 'hard',\n 'html',\n 'fine',\n 'askubuntu.com',\n 'programmers.stackexchange.com',\n 'custom',\n 'results',\n 'makes',\n 'available',\n 'r',\n 'under',\n 'rpg.stackexchange.com',\n 'void',\n 'place',\n 'state',\n 'per',\n 'points',\n 'created',\n 'url',\n 'large',\n 'real',\n 'false',\n 'local',\n 'bad',\n 'maybe',\n 'via',\n 'book',\n 'machine',\n 'general',\n 'print',\n 'full',\n 'control',\n 'making',\n 'save',\n 'home',\n 'rather',\n 'reference',\n 'water',\n 'e.g.',\n 'standard',\n 'wo',\n 'free',\n 'click',\n 'log',\n 'inside',\n 'player',\n 'original',\n 'computer',\n 'g',\n 'java',\n 'whether',\n 'product',\n 'energy',\n 'words',\n 'color',\n '100',\n 'gaming.stackexchange.com',\n 'seem',\n 'map',\n 'fact',\n 'search',\n 'common',\n 'address',\n 'allow',\n 'him',\n 'title',\n 'within',\n 'load',\n 'certain',\n 'model',\n 'unix.stackexchange.com',\n 'likely',\n 'design',\n 'program',\n 'options',\n 'drive',\n 'sense',\n 'memory',\n 'email',\n 'three',\n 'yes',\n 'date',\n 'come',\n 'looks',\n 'apple.stackexchange.com',\n 'mode',\n 'person',\n 'particular',\n 'low',\n 'element',\n 'uses',\n 'block',\n 'private',\n 'package',\n 'consider',\n 'javascript',\n 'says',\n 'client',\n 'until',\n 'security',\n 'everything',\n 'academia.stackexchange.com',\n 'changes',\n 'whole',\n 'photo.stackexchange.com',\n 'store',\n 'settings',\n 'easy',\n 'lines',\n 'several',\n 'items',\n 'ubuntu',\n 'years',\n 'include',\n 'pretty',\n 'software',\n 'domain',\n 'yet',\n 'i.e.',\n 'light',\n 'window',\n 'her',\n 'exactly',\n 'world',\n 'drupal.stackexchange.com',\n 'she',\n 'needs',\n 'related',\n 'variable',\n 'required',\n 'move',\n 'connection',\n '^',\n 'account',\n 'diy.stackexchange.com',\n 'ux.stackexchange.com',\n 'event',\n 'during',\n 'play',\n 'gets',\n 'instance',\n 'important',\n 'scifi.stackexchange.com',\n 'password',\n 'linux',\n 'background',\n 'item',\n 'directory',\n 'objects',\n 'send',\n 'range',\n 'numbers',\n 'sort',\n 'echo',\n 'screen',\n 'clear',\n 'switch',\n 'force',\n 'import',\n 'setting',\n 'card',\n 'day',\n 'nothing',\n 'great',\n 'body',\n 'security.stackexchange.com',\n 'students',\n 'big',\n 'paper',\n 'build',\n 'mail',\n 'circuit',\n 'python',\n '12',\n 'ask',\n 'character',\n 'index',\n 'short',\n 'term',\n 'against',\n 'adding',\n 'seen',\n 'normal',\n 'filter',\n 'style',\n 'effect',\n 'reading',\n 'itself',\n 'hand',\n 'disk',\n 'god',\n '“',\n 'close',\n 'thought',\n '”',\n 'hit',\n 'meaning',\n 'rules',\n 'position',\n 'turn',\n 'language',\n 'problems',\n 'added',\n 'english',\n 'others',\n 'box',\n 'final',\n 'car',\n 'mm',\n 'ell.stackexchange.com',\n 'fields',\n 'currently',\n 'loop',\n 'sometimes',\n 'api',\n 'functions',\n '`',\n 'support',\n 'format',\n 'due',\n 'comes',\n 'gamedev.stackexchange.com',\n 'white',\n 'length',\n 'document',\n 'takes',\n 'folder',\n 'methods',\n 'job',\n 'basic',\n '20',\n 'mathoverflow.net',\n 'stop',\n 'figure',\n 'delete',\n 'website',\n 'fix',\n 'dev',\n 'wordpress.stackexchange.com',\n 'k',\n 'later',\n 'days',\n 'answers',\n 'menu',\n 'os',\n 'choose',\n 'head',\n 'attack',\n 'action',\n 'amount',\n 'bottom',\n 'library',\n 'directly',\n 'company',\n 'matter',\n 'copy',\n 'especially',\n 'thus',\n 'needed',\n 'although',\n 'magento.stackexchange.com',\n 'comment',\n 'elements',\n 'gives',\n 'ip',\n 'year',\n 'vector',\n 'mechanics.stackexchange.com',\n 'node',\n 'area',\n 'creating',\n 'assume',\n 'speed',\n 'bytes',\n 'ok',\n 'def',\n 'installed',\n 'away',\n 'sound',\n 'stack',\n 'provide',\n 'z',\n 'black',\n 'pi',\n 'graphicdesign.stackexchange.com',\n 'root',\n 'therefore',\n 'links',\n 'row',\n 'td',\n 'across',\n 'engine',\n 'pages',\n 'shows',\n 'front',\n 'pass',\n 'terms',\n 'approach',\n 'bicycles.stackexchange.com',\n 'money.stackexchange.com',\n 'connected',\n 'zero',\n 'insert',\n 'xml',\n 'cause',\n 'feel',\n 'property',\n 'examples',\n 'goes',\n 'experience',\n 'rest',\n 'module',\n 'stuff',\n 'camera',\n 'research',\n 'rule',\n 'ways',\n 'connect',\n 'apply',\n 'properties',\n 'remember',\n 'section',\n 'useful',\n 'none',\n 'complete',\n 'performance',\n 'money',\n 'completely',\n 'mysql',\n 'signal',\n 'according',\n 'port',\n 'travel.stackexchange.com',\n 'mathematica.stackexchange.com',\n 'total',\n 'cases',\n 'label',\n 'started',\n '11',\n 'draw',\n 'comments',\n 'basically',\n 'longer',\n 'revision',\n 'known',\n 'replace',\n 'higher',\n 'configuration',\n 'context',\n 'response',\n 'defined',\n 'whatever',\n 'hash',\n 'article',\n 'gis.stackexchange.com',\n 'h',\n 'session',\n 'perhaps',\n 'browser',\n 'guess',\n 'thinking',\n 'changed',\n 'missing',\n 'count',\n 'manager',\n 'programming',\n 'lens',\n 'actual',\n 'buy',\n 'template',\n 'starting',\n 'dba.stackexchange.com',\n 'avoid',\n 'feature',\n 'boardgames.stackexchange.com',\n 'cooking.stackexchange.com',\n 'step',\n 'double',\n 'request',\n 'allows',\n 'damage',\n 'generally',\n 'sudo',\n 'handle',\n 'css',\n 'contains',\n 'red',\n 'setup',\n 'happens',\n 'business',\n 'self',\n 'changing',\n 'games',\n 'otherwise',\n 'extra',\n 'tool',\n 'judaism.stackexchange.com',\n 'law',\n 'desktop',\n 'unless',\n 'special',\n 're',\n '15',\n 'jquery',\n 'parts',\n 'theory',\n 'hope',\n 'frame',\n 'existing',\n 'playing',\n 'music.stackexchange.com',\n '30',\n 'info',\n 'solve',\n 'online',\n 'boot',\n 'believe',\n 'statement',\n 'issues',\n 'choice',\n 'outside',\n 'languages',\n 'random',\n 'easier',\n 'room',\n 'cost',\n 'suggest',\n 'plugin',\n 'v',\n 'wondering',\n 'mind',\n 'players',\n 'sharepoint.stackexchange.com',\n 'correctly',\n 'books',\n 'selected',\n 'follow',\n 'require',\n 'bike',\n 'distance',\n 'devices',\n 'present',\n 'easily',\n 'child',\n 'explain',\n '50',\n 'almost',\n 'rate',\n 'vs',\n 'bin',\n 'further',\n 'writing',\n 'written',\n 'asked',\n 'applications',\n 'depends',\n 'house',\n 'probability',\n 'live',\n 'tree',\n 'define',\n 'couple',\n 'contain',\n 'minutes',\n 'login',\n 'john',\n 'determine',\n 'break',\n 'exception',\n 'ones',\n 'environment',\n 'returns',\n 'meta.stackexchange.com',\n 'tag',\n 'battery',\n 'variables',\n 'separate',\n 'classes',\n 'usr',\n 'location',\n 'price',\n 'phone',\n 'asking',\n 'task',\n 'fixed',\n 'expect',\n 'recently',\n 'happen',\n 'types',\n 'ideas',\n 'base',\n 'along',\n 'structure',\n 'various',\n 'width',\n 'columns',\n '2013',\n 'life',\n 'limit',\n 'thread',\n 'sentence',\n 'empty',\n '’s',\n 'host',\n 'details',\n 'volume',\n 'situation',\n 'assuming',\n 'future',\n 'previous',\n 'names',\n 'deal',\n 'download',\n 'description',\n 'series',\n 'wanted',\n 'sites',\n 'usb',\n 'moving',\n 'customer',\n 'depending',\n 'christianity.stackexchange.com',\n 'l',\n 'negative',\n 'specifically',\n 'share',\n 'mark',\n 'layer',\n 'taking',\n 'equivalent',\n 'came',\n 'mac',\n 'including',\n 'li',\n 'considered',\n 'definition',\n 'gb',\n 'match',\n 'bar',\n 'mentioned',\n '200',\n 'additional',\n 'oil',\n 'necessary',\n 'positive',\n 'automatically',\n 'together',\n 'prevent',\n 'ever',\n 'tools',\n 'earth',\n 'chain',\n 'learn',\n 'algorithm',\n '24',\n ...]"
     },
     "metadata": {},
     "output_type": "execute_result",
     "execution_count": 15
    }
   ],
   "source": [
    " \n",
    "\n",
    "with open(data_path/'vocab.pkl', 'rb') as vocab_file:\n",
    " \n",
    "    # Step 3\n",
    "    lm_vocab = pickle.load(vocab_file)\n",
    " \n",
    "    # After config_dictionary is read from file\n",
    "lm_vocab"
   ]
  },
  {
   "cell_type": "code",
   "execution_count": 16,
   "metadata": {
    "pycharm": {
     "is_executing": false
    }
   },
   "outputs": [],
   "source": [
    "text_columns=['question_title', 'question_body', 'question_user_name',\n",
    "       'question_user_page', 'answer', 'answer_user_name', 'answer_user_page',\n",
    "       'url', 'category', 'host']"
   ]
  },
  {
   "cell_type": "code",
   "execution_count": 16,
   "metadata": {},
   "outputs": [
    {
     "data": {
      "text/html": [
       "<div>\n",
       "<style scoped>\n",
       "    .dataframe tbody tr th:only-of-type {\n",
       "        vertical-align: middle;\n",
       "    }\n",
       "\n",
       "    .dataframe tbody tr th {\n",
       "        vertical-align: top;\n",
       "    }\n",
       "\n",
       "    .dataframe thead th {\n",
       "        text-align: right;\n",
       "    }\n",
       "</style>\n",
       "<table border=\"1\" class=\"dataframe\">\n",
       "  <thead>\n",
       "    <tr style=\"text-align: right;\">\n",
       "      <th></th>\n",
       "      <th>qa_id</th>\n",
       "      <th>question_title</th>\n",
       "      <th>question_body</th>\n",
       "      <th>question_user_name</th>\n",
       "      <th>question_user_page</th>\n",
       "      <th>answer</th>\n",
       "      <th>answer_user_name</th>\n",
       "      <th>answer_user_page</th>\n",
       "      <th>url</th>\n",
       "      <th>category</th>\n",
       "      <th>...</th>\n",
       "      <th>question_well_written</th>\n",
       "      <th>answer_helpful</th>\n",
       "      <th>answer_level_of_information</th>\n",
       "      <th>answer_plausible</th>\n",
       "      <th>answer_relevance</th>\n",
       "      <th>answer_satisfaction</th>\n",
       "      <th>answer_type_instructions</th>\n",
       "      <th>answer_type_procedure</th>\n",
       "      <th>answer_type_reason_explanation</th>\n",
       "      <th>answer_well_written</th>\n",
       "    </tr>\n",
       "  </thead>\n",
       "  <tbody>\n",
       "    <tr>\n",
       "      <th>0</th>\n",
       "      <td>0</td>\n",
       "      <td>What am I losing when using extension tubes instead of a macro lens?</td>\n",
       "      <td>After playing around with macro photography on-the-cheap (read: reversed lens, rev. lens mounted on a straight lens, passive extension tubes), I would like to get further with this. The problems with the techniques I used is that focus is manual and aperture control is problematic at best. This limited my setup to still subjects (read: dead insects) Now, as spring is approaching, I want to be able to shoot live insects. I believe that for this, autofocus and settable aperture will be of great help.\\n\\nSo, one obvious but expensive option is a macro lens (say, EF 100mm Macro) However, I am ...</td>\n",
       "      <td>ysap</td>\n",
       "      <td>https://photo.stackexchange.com/users/1024</td>\n",
       "      <td>I just got extension tubes, so here's the skinny.\\n\\n\\n  ...what am I losing when using tubes...?\\n\\n\\nA very considerable amount of light!  Increasing that distance from the end of the lens to the sensor can cut your light several stops.  Combined with the fact that you'll usually shoot stopped down - expect to need to increase your ISO considerably.\\n\\nThe fact the macro's are usually considered very very sharp, although I believe that 70-200mm 2.8 is supposed to be quite sharp.\\n\\nThe ultra low distortion typical of many macros.\\n\\nI wouldn't worry too much about the bokeh since the DOF...</td>\n",
       "      <td>rfusca</td>\n",
       "      <td>https://photo.stackexchange.com/users/1917</td>\n",
       "      <td>http://photo.stackexchange.com/questions/9169/what-am-i-losing-when-using-extension-tubes-instead-of-a-macro-lens</td>\n",
       "      <td>LIFE_ARTS</td>\n",
       "      <td>...</td>\n",
       "      <td>1.000000</td>\n",
       "      <td>1.000000</td>\n",
       "      <td>0.666667</td>\n",
       "      <td>1.000000</td>\n",
       "      <td>1.000000</td>\n",
       "      <td>0.800000</td>\n",
       "      <td>1.000000</td>\n",
       "      <td>0.000000</td>\n",
       "      <td>0.000000</td>\n",
       "      <td>1.000000</td>\n",
       "    </tr>\n",
       "    <tr>\n",
       "      <th>1</th>\n",
       "      <td>1</td>\n",
       "      <td>What is the distinction between a city and a sprawl/metroplex... between downtown and a commercial district?</td>\n",
       "      <td>I am trying to understand what kinds of places the spam values on p 231 refer to in the 5th Edition main book for Shadowrun.\\n\\nPer p 15, a sprawl is a plex, a plex is a \"metropolitan complex, short for metroplex\". Per Google a metroplex is \" a very large metropolitan area, especially one that is an aggregation of two or more cities\".  A city downtown and sprawl downtown would tend to have similar densities, but for some reason the sprawl (which includes suburbs?) has a higher spam zone noise rating (p 231).  Similarly, I'd think of a downtown as being more dense and noisy (e.g. Office bui...</td>\n",
       "      <td>russellpierce</td>\n",
       "      <td>https://rpg.stackexchange.com/users/8774</td>\n",
       "      <td>It might be helpful to look into the definition of spam zone:\\n\\n(p.216) spam zone: An area flooded with invasive and/or viral AR advertising, causing noise.\\n\\nBecause a metroplex has so many marketing targets, it seems a safe assumption that marketers would drown the plex with spam. Spam from the less dense areas would bleed into the urban cores. A smaller city with less urban/suburban territory surrounding it ostensibly wouldn't have as much spam.\\n</td>\n",
       "      <td>Erik Schmidt</td>\n",
       "      <td>https://rpg.stackexchange.com/users/1871</td>\n",
       "      <td>http://rpg.stackexchange.com/questions/47820/what-is-the-distinction-between-a-city-and-a-sprawl-metroplex-between-downtow</td>\n",
       "      <td>CULTURE</td>\n",
       "      <td>...</td>\n",
       "      <td>0.888889</td>\n",
       "      <td>0.888889</td>\n",
       "      <td>0.555556</td>\n",
       "      <td>0.888889</td>\n",
       "      <td>0.888889</td>\n",
       "      <td>0.666667</td>\n",
       "      <td>0.000000</td>\n",
       "      <td>0.000000</td>\n",
       "      <td>0.666667</td>\n",
       "      <td>0.888889</td>\n",
       "    </tr>\n",
       "    <tr>\n",
       "      <th>2</th>\n",
       "      <td>2</td>\n",
       "      <td>Maximum protusion length for through-hole component pins</td>\n",
       "      <td>I'm working on a PCB that has through-hole components on both sides of the board. The \"top\" side of the board is mounted flush to a Delrin plastic block (the only top-side component is a gas sensor that is fed air samples through hose fittings in the plastic block).\\n\\nThe flush mounting means that I have to add grooves to the plastic block to accommodate the soldered pins of the bottom-side components. Assuming a standard 0.062\" thickness FR4 board, how deep do I need to make the grooves in the plastic block? The only thing I could find is this NASA workmanship standard that states 0.5mm ...</td>\n",
       "      <td>Joe Baker</td>\n",
       "      <td>https://electronics.stackexchange.com/users/10157</td>\n",
       "      <td>Do you even need grooves?  We make several products using through-hole components that are intended to mount using VHB double-sided foam tape.  The boards are 0.062\" thick double-sided with PTH and we use a table-top vertical belt sander to bring the component leads almost flush with the solder mask.  In other words, the solder mask isn't touched by the sand paper but the leads are all sanded flat and sitting just proud of the solder mask.\\n\\nThis works well for small boards.\\n\\nFor what it's worth, there are commercial machines available that use a rotary saw blade to do the same thing.  ...</td>\n",
       "      <td>Dwayne Reid</td>\n",
       "      <td>https://electronics.stackexchange.com/users/64754</td>\n",
       "      <td>http://electronics.stackexchange.com/questions/154225/maximum-protusion-length-for-through-hole-component-pins</td>\n",
       "      <td>SCIENCE</td>\n",
       "      <td>...</td>\n",
       "      <td>0.777778</td>\n",
       "      <td>0.777778</td>\n",
       "      <td>0.555556</td>\n",
       "      <td>1.000000</td>\n",
       "      <td>1.000000</td>\n",
       "      <td>0.666667</td>\n",
       "      <td>0.000000</td>\n",
       "      <td>0.333333</td>\n",
       "      <td>1.000000</td>\n",
       "      <td>0.888889</td>\n",
       "    </tr>\n",
       "    <tr>\n",
       "      <th>3</th>\n",
       "      <td>3</td>\n",
       "      <td>Can an affidavit be used in Beit Din?</td>\n",
       "      <td>An affidavit, from what i understand, is basically a signed document given by a witness to be used as evidence in a trial, without the witness themselves needing to take a stand.\\n\\nCan an affidavit be used in Beit Din? Or must witnesses take the stand in person for their testimony to count?\\n\\n(In case i'm misunderstanding what exactly an affidavit is, simply treat it as a signed document by a witness with their testimony.)\\n</td>\n",
       "      <td>Scimonster</td>\n",
       "      <td>https://judaism.stackexchange.com/users/5151</td>\n",
       "      <td>Sending an \"affidavit\" it is a dispute between Rashi and Rabbeinu Tam.\\n\\nDevarim 19:15:\\n\\n\\n  לא יקום עד אחד באיש לכל עון ולכל חטאת בכל חטא אשר יחטא על פי שני עדים או על פי שלשה עדים יקום דבר\\n\\n\\nRashi:\\n\\n\\n  ולא שיכתבו עדותם באגרת וישלחו לבית דין\\n  \\n  And not that they write their testimony in a letter and send it to Beis Din\\n\\n\\nTosefos Bava Basra 40a (continued from 39b):\\n\\n\\n  ועוד אומר ר\"י ששמע מן ר\"ת שנוהגים לשלח העדים עדותם באיגרת לב\"ד וחשיב עדות והא דדרשינן בספרי. מפיהם ולא מפי כתבם לא אתא אלא למעוטי דוקא אלם שאינו בר הגדה אבל ראוי להגדה אין הגדה מעכבת בו \\n  \\n  R\"i said t...</td>\n",
       "      <td>Y     e     z</td>\n",
       "      <td>https://judaism.stackexchange.com/users/4794</td>\n",
       "      <td>http://judaism.stackexchange.com/questions/55182/can-an-affidavit-be-used-in-beit-din</td>\n",
       "      <td>CULTURE</td>\n",
       "      <td>...</td>\n",
       "      <td>0.888889</td>\n",
       "      <td>0.833333</td>\n",
       "      <td>0.333333</td>\n",
       "      <td>0.833333</td>\n",
       "      <td>1.000000</td>\n",
       "      <td>0.800000</td>\n",
       "      <td>0.000000</td>\n",
       "      <td>0.000000</td>\n",
       "      <td>1.000000</td>\n",
       "      <td>1.000000</td>\n",
       "    </tr>\n",
       "    <tr>\n",
       "      <th>4</th>\n",
       "      <td>5</td>\n",
       "      <td>How do you make a binary image in Photoshop?</td>\n",
       "      <td>I am trying to make a binary image. I want more than just the look of the image to be black/white, but I want the actual file to be a binary file. Every pixel should be either black, or white. \\n\\nI don't just want a monochrome image. I can't have varying shades of gray, every pixel needs to be black or white.\\n\\nIs this possible? I looked under Image &gt; Mode but nothing there seems to indiciate a binary style image.\\n</td>\n",
       "      <td>leigero</td>\n",
       "      <td>https://graphicdesign.stackexchange.com/users/21313</td>\n",
       "      <td>Check out Image Trace in Adobe Illustrator. \\n\\nI like using python and PIL, however.\\n\\nfrom PIL import Image\\nimage_file = Image.open(\"myimage.bmp\") \\nimage_file = image_file.convert('1') # convert\\nimage_file.save('result.bmp')\\n\\n</td>\n",
       "      <td>q2ra</td>\n",
       "      <td>https://graphicdesign.stackexchange.com/users/27160</td>\n",
       "      <td>http://graphicdesign.stackexchange.com/questions/35791/how-do-you-make-a-binary-image-in-photoshop</td>\n",
       "      <td>LIFE_ARTS</td>\n",
       "      <td>...</td>\n",
       "      <td>1.000000</td>\n",
       "      <td>1.000000</td>\n",
       "      <td>0.666667</td>\n",
       "      <td>1.000000</td>\n",
       "      <td>1.000000</td>\n",
       "      <td>0.800000</td>\n",
       "      <td>1.000000</td>\n",
       "      <td>0.000000</td>\n",
       "      <td>1.000000</td>\n",
       "      <td>1.000000</td>\n",
       "    </tr>\n",
       "    <tr>\n",
       "      <th>...</th>\n",
       "      <td>...</td>\n",
       "      <td>...</td>\n",
       "      <td>...</td>\n",
       "      <td>...</td>\n",
       "      <td>...</td>\n",
       "      <td>...</td>\n",
       "      <td>...</td>\n",
       "      <td>...</td>\n",
       "      <td>...</td>\n",
       "      <td>...</td>\n",
       "      <td>...</td>\n",
       "      <td>...</td>\n",
       "      <td>...</td>\n",
       "      <td>...</td>\n",
       "      <td>...</td>\n",
       "      <td>...</td>\n",
       "      <td>...</td>\n",
       "      <td>...</td>\n",
       "      <td>...</td>\n",
       "      <td>...</td>\n",
       "      <td>...</td>\n",
       "    </tr>\n",
       "    <tr>\n",
       "      <th>6074</th>\n",
       "      <td>9642</td>\n",
       "      <td>Using a ski helmet for winter biking</td>\n",
       "      <td>I am curious if anyone uses a skiing helmet for winter biking? Would this be safe? Are skiing helmets designed to protect you from the same kind of accidents that you would have on a bike?  \\n\\nMy thinking is that a ski helmet would:\\n\\n\\nHelp to keep your ears warm\\nWould fit well with ski goggles (which fit poorly with my bike helmet)\\nNot have air vents in it which make you cold in the winter\\n\\n</td>\n",
       "      <td>sixtyfootersdude</td>\n",
       "      <td>https://bicycles.stackexchange.com/users/134</td>\n",
       "      <td>If you're thinking about wearing a ski helmet for biking, for what it's worth the Snell RS-98 recreational skiing and B-95 biking helmet standards are nearly identical, word for word, including things like visibility requirements and anatomical coverage. There are some small differences in the drop test. The energy of the flat anvil drop test in the B-95 standard is 110J vs. 100J for the RS-98 ski standard.  The hemispherical anvil drop test is 80 J for RS-98 and 72 for B-95. Bike helmets are tested against the point of a right angle \"kerbstone\" anvil, but ski helmets are tested against an...</td>\n",
       "      <td>Matt Leo</td>\n",
       "      <td>https://bicycles.stackexchange.com/users/3340</td>\n",
       "      <td>http://bicycles.stackexchange.com/questions/995/using-a-ski-helmet-for-winter-biking</td>\n",
       "      <td>CULTURE</td>\n",
       "      <td>...</td>\n",
       "      <td>0.777778</td>\n",
       "      <td>1.000000</td>\n",
       "      <td>0.555556</td>\n",
       "      <td>1.000000</td>\n",
       "      <td>1.000000</td>\n",
       "      <td>0.866667</td>\n",
       "      <td>0.000000</td>\n",
       "      <td>0.000000</td>\n",
       "      <td>0.000000</td>\n",
       "      <td>0.888889</td>\n",
       "    </tr>\n",
       "    <tr>\n",
       "      <th>6075</th>\n",
       "      <td>9643</td>\n",
       "      <td>Adjustment to road bike brakes for high grade downhill</td>\n",
       "      <td>I have a road bike with a front brake that wears a lot of brake pad when I ride downhill every day. I lose 900ft in elevation on steep grades with lots of stop signs and traffic lights. On top of that, it rains a decent amount and the rim brakes are terrible in that weather. I don't trust them downhill in the rain. Sometimes I just walk.\\n\\nI feather the brakes going downhill, because otherwise I'm too fast to stop quickly for an errant car.\\n\\nIt'd be nice to not constantly replace pads, and have powerful stopping. How can I make this constant downhill more pleasant?\\n\\nThanks. \\n</td>\n",
       "      <td>ash</td>\n",
       "      <td>https://bicycles.stackexchange.com/users/14519</td>\n",
       "      <td>\\nYou can replace the pads (as stated elsewhere).  There are a lot of variations in pad material, and a faster-wearing pad is not necessarily a better braking pad.  Unfortunately, it's hard to find a good selection of pads, and even harder to get good info on which is suitable to which conditions.\\nYou can use your rear brake more, especially for speed control, and save the front for more \"serious\" efforts.  When I'm on a downhill (rarely as steep/long as yours, though) I like to alternate between front and rear brakes for speed control, and I do it more in bursts rather than with steady p...</td>\n",
       "      <td>Daniel R Hicks</td>\n",
       "      <td>https://bicycles.stackexchange.com/users/1584</td>\n",
       "      <td>http://bicycles.stackexchange.com/questions/25771/adjustment-to-road-bike-brakes-for-high-grade-downhill</td>\n",
       "      <td>CULTURE</td>\n",
       "      <td>...</td>\n",
       "      <td>0.777778</td>\n",
       "      <td>0.888889</td>\n",
       "      <td>0.555556</td>\n",
       "      <td>1.000000</td>\n",
       "      <td>1.000000</td>\n",
       "      <td>0.733333</td>\n",
       "      <td>0.666667</td>\n",
       "      <td>0.333333</td>\n",
       "      <td>0.000000</td>\n",
       "      <td>0.888889</td>\n",
       "    </tr>\n",
       "    <tr>\n",
       "      <th>6076</th>\n",
       "      <td>9645</td>\n",
       "      <td>Suppress 'file truncated' messages when using tail</td>\n",
       "      <td>I'm tailing a log file using tail -f messages.log and this is part of the output:\\n\\n\\nLorem ipsum dolor sit amet, consectetur adipiscing elit. \\nFusce eget tellus sit amet odio porttitor rhoncus. \\nDonec consequat diam sit amet tellus viverra pellentesque. \\ntail: messages.log: file truncated\\nSuspendisse at risus id neque pharetra finibus in facilisis ipsum.\\n\\n\\n\\nIt shows tail: messages.log: file truncated when the file gets truncated automatically and that's supposed to happen, but I just want tail to show me the output without this truncate message.\\n\\nI've tried using tail -f messag...</td>\n",
       "      <td>Maneating Koala</td>\n",
       "      <td>https://unix.stackexchange.com/users/60445</td>\n",
       "      <td>Maybe help if can be fixes origin of this error. It happened because something write to file with overwrite \"&gt;\" not with append \"&gt;&gt;\".\\n</td>\n",
       "      <td>BG Bruno</td>\n",
       "      <td>https://unix.stackexchange.com/users/68208</td>\n",
       "      <td>http://unix.stackexchange.com/questions/169054/suppress-file-truncated-messages-when-using-tail</td>\n",
       "      <td>TECHNOLOGY</td>\n",
       "      <td>...</td>\n",
       "      <td>0.444444</td>\n",
       "      <td>0.888889</td>\n",
       "      <td>0.555556</td>\n",
       "      <td>0.888889</td>\n",
       "      <td>0.888889</td>\n",
       "      <td>0.800000</td>\n",
       "      <td>1.000000</td>\n",
       "      <td>0.000000</td>\n",
       "      <td>0.333333</td>\n",
       "      <td>0.555556</td>\n",
       "    </tr>\n",
       "    <tr>\n",
       "      <th>6077</th>\n",
       "      <td>9646</td>\n",
       "      <td>When should a supervisor be a co-author?</td>\n",
       "      <td>What are people's views on this?  To be specific: suppose a PhD student has produced a piece of original mathematical research. Suppose that student's supervisor suggested the problem, and gave a few helpful comments, but otherwise did not contribute to the work.  Should that supervisor still be named as a co-author, or would an acknowledgment suffice?\\n\\nI am interested in two aspects of this. Firstly the moral/etiquette aspect: do you consider it bad form for a student not to name their supervisor?  Or does it depend on that supervisor's input?  And secondly, the practical, career-advanc...</td>\n",
       "      <td>MrB</td>\n",
       "      <td>https://mathoverflow.net/users/2189</td>\n",
       "      <td>As a non-mathematician, I am somewhat mystified by the prevailing norms of the mathematics community as I understand them from this thread. Correct me if I'm wrong, but it sounds like: \\n\\n\\nSupervisors make important intellectual contributions to the thesis work of their students. \\nTypically, the name of the supervisor does not appear on the work. \\n\\n\\nFor example, the most upvoted comment at the moment says \"as a rule the supervisor should not be a co-author in the main paper taken from a student's thesis, even if he has contributed substantially to it.\" (emphasis is mine) Other commen...</td>\n",
       "      <td>angela</td>\n",
       "      <td>https://mathoverflow.net/users/4267</td>\n",
       "      <td>http://mathoverflow.net/questions/57337</td>\n",
       "      <td>SCIENCE</td>\n",
       "      <td>...</td>\n",
       "      <td>1.000000</td>\n",
       "      <td>0.888889</td>\n",
       "      <td>0.555556</td>\n",
       "      <td>1.000000</td>\n",
       "      <td>1.000000</td>\n",
       "      <td>0.533333</td>\n",
       "      <td>0.000000</td>\n",
       "      <td>0.333333</td>\n",
       "      <td>0.666667</td>\n",
       "      <td>1.000000</td>\n",
       "    </tr>\n",
       "    <tr>\n",
       "      <th>6078</th>\n",
       "      <td>9647</td>\n",
       "      <td>Why are there so many different types of screws (phillps/flat/hex/star/etc)?</td>\n",
       "      <td>Newbie question.\\n\\nWhy is it that there's a bazillion different types of screws? Why can't we just always use one standard screw type? Are there advantages/disadvantages to the different types? Are there times when one type is preferred over another?\\n\\nHelp me understand why there isn't one screw to rule them all.\\n</td>\n",
       "      <td>Doug T.</td>\n",
       "      <td>https://diy.stackexchange.com/users/321</td>\n",
       "      <td>First, I really like Eric's answer for practical reasons.  But there is another side to screw head diversity:  Security.\\n\\nIn the end, it's usually a temporary measure.  Once a company invents a new screw, some third party will start selling tools to remove them.  But for a time, any new screw design means the only people who can open your parts are \"certified\" workshops you've given tools to.  Personally I see this a lot in electronic equipment, where the original manufacturer wants some aspect of design kept private or doesn't want after-market mods made to things they sell.  Nintendo i...</td>\n",
       "      <td>Scivitri</td>\n",
       "      <td>https://diy.stackexchange.com/users/113</td>\n",
       "      <td>http://diy.stackexchange.com/questions/2701/why-are-there-so-many-different-types-of-screws-phillps-flat-hex-star-etc</td>\n",
       "      <td>LIFE_ARTS</td>\n",
       "      <td>...</td>\n",
       "      <td>1.000000</td>\n",
       "      <td>0.888889</td>\n",
       "      <td>0.555556</td>\n",
       "      <td>1.000000</td>\n",
       "      <td>0.888889</td>\n",
       "      <td>0.733333</td>\n",
       "      <td>0.000000</td>\n",
       "      <td>0.000000</td>\n",
       "      <td>1.000000</td>\n",
       "      <td>1.000000</td>\n",
       "    </tr>\n",
       "  </tbody>\n",
       "</table>\n",
       "<p>6079 rows × 41 columns</p>\n",
       "</div>"
      ],
      "text/plain": [
       "      qa_id  \\\n",
       "0         0   \n",
       "1         1   \n",
       "2         2   \n",
       "3         3   \n",
       "4         5   \n",
       "...     ...   \n",
       "6074   9642   \n",
       "6075   9643   \n",
       "6076   9645   \n",
       "6077   9646   \n",
       "6078   9647   \n",
       "\n",
       "                                                                                                    question_title  \\\n",
       "0                                             What am I losing when using extension tubes instead of a macro lens?   \n",
       "1     What is the distinction between a city and a sprawl/metroplex... between downtown and a commercial district?   \n",
       "2                                                         Maximum protusion length for through-hole component pins   \n",
       "3                                                                            Can an affidavit be used in Beit Din?   \n",
       "4                                                                     How do you make a binary image in Photoshop?   \n",
       "...                                                                                                            ...   \n",
       "6074                                                                          Using a ski helmet for winter biking   \n",
       "6075                                                        Adjustment to road bike brakes for high grade downhill   \n",
       "6076                                                            Suppress 'file truncated' messages when using tail   \n",
       "6077                                                                      When should a supervisor be a co-author?   \n",
       "6078                                  Why are there so many different types of screws (phillps/flat/hex/star/etc)?   \n",
       "\n",
       "                                                                                                                                                                                                                                                                                                                                                                                                                                                                                                                                                                                                                question_body  \\\n",
       "0     After playing around with macro photography on-the-cheap (read: reversed lens, rev. lens mounted on a straight lens, passive extension tubes), I would like to get further with this. The problems with the techniques I used is that focus is manual and aperture control is problematic at best. This limited my setup to still subjects (read: dead insects) Now, as spring is approaching, I want to be able to shoot live insects. I believe that for this, autofocus and settable aperture will be of great help.\\n\\nSo, one obvious but expensive option is a macro lens (say, EF 100mm Macro) However, I am ...   \n",
       "1     I am trying to understand what kinds of places the spam values on p 231 refer to in the 5th Edition main book for Shadowrun.\\n\\nPer p 15, a sprawl is a plex, a plex is a \"metropolitan complex, short for metroplex\". Per Google a metroplex is \" a very large metropolitan area, especially one that is an aggregation of two or more cities\".  A city downtown and sprawl downtown would tend to have similar densities, but for some reason the sprawl (which includes suburbs?) has a higher spam zone noise rating (p 231).  Similarly, I'd think of a downtown as being more dense and noisy (e.g. Office bui...   \n",
       "2     I'm working on a PCB that has through-hole components on both sides of the board. The \"top\" side of the board is mounted flush to a Delrin plastic block (the only top-side component is a gas sensor that is fed air samples through hose fittings in the plastic block).\\n\\nThe flush mounting means that I have to add grooves to the plastic block to accommodate the soldered pins of the bottom-side components. Assuming a standard 0.062\" thickness FR4 board, how deep do I need to make the grooves in the plastic block? The only thing I could find is this NASA workmanship standard that states 0.5mm ...   \n",
       "3                                                                                                                                                                              An affidavit, from what i understand, is basically a signed document given by a witness to be used as evidence in a trial, without the witness themselves needing to take a stand.\\n\\nCan an affidavit be used in Beit Din? Or must witnesses take the stand in person for their testimony to count?\\n\\n(In case i'm misunderstanding what exactly an affidavit is, simply treat it as a signed document by a witness with their testimony.)\\n   \n",
       "4                                                                                                                                                                                       I am trying to make a binary image. I want more than just the look of the image to be black/white, but I want the actual file to be a binary file. Every pixel should be either black, or white. \\n\\nI don't just want a monochrome image. I can't have varying shades of gray, every pixel needs to be black or white.\\n\\nIs this possible? I looked under Image > Mode but nothing there seems to indiciate a binary style image.\\n   \n",
       "...                                                                                                                                                                                                                                                                                                                                                                                                                                                                                                                                                                                                                       ...   \n",
       "6074                                                                                                                                                                                                       I am curious if anyone uses a skiing helmet for winter biking? Would this be safe? Are skiing helmets designed to protect you from the same kind of accidents that you would have on a bike?  \\n\\nMy thinking is that a ski helmet would:\\n\\n\\nHelp to keep your ears warm\\nWould fit well with ski goggles (which fit poorly with my bike helmet)\\nNot have air vents in it which make you cold in the winter\\n\\n   \n",
       "6075             I have a road bike with a front brake that wears a lot of brake pad when I ride downhill every day. I lose 900ft in elevation on steep grades with lots of stop signs and traffic lights. On top of that, it rains a decent amount and the rim brakes are terrible in that weather. I don't trust them downhill in the rain. Sometimes I just walk.\\n\\nI feather the brakes going downhill, because otherwise I'm too fast to stop quickly for an errant car.\\n\\nIt'd be nice to not constantly replace pads, and have powerful stopping. How can I make this constant downhill more pleasant?\\n\\nThanks. \\n   \n",
       "6076  I'm tailing a log file using tail -f messages.log and this is part of the output:\\n\\n\\nLorem ipsum dolor sit amet, consectetur adipiscing elit. \\nFusce eget tellus sit amet odio porttitor rhoncus. \\nDonec consequat diam sit amet tellus viverra pellentesque. \\ntail: messages.log: file truncated\\nSuspendisse at risus id neque pharetra finibus in facilisis ipsum.\\n\\n\\n\\nIt shows tail: messages.log: file truncated when the file gets truncated automatically and that's supposed to happen, but I just want tail to show me the output without this truncate message.\\n\\nI've tried using tail -f messag...   \n",
       "6077  What are people's views on this?  To be specific: suppose a PhD student has produced a piece of original mathematical research. Suppose that student's supervisor suggested the problem, and gave a few helpful comments, but otherwise did not contribute to the work.  Should that supervisor still be named as a co-author, or would an acknowledgment suffice?\\n\\nI am interested in two aspects of this. Firstly the moral/etiquette aspect: do you consider it bad form for a student not to name their supervisor?  Or does it depend on that supervisor's input?  And secondly, the practical, career-advanc...   \n",
       "6078                                                                                                                                                                                                                                                                                          Newbie question.\\n\\nWhy is it that there's a bazillion different types of screws? Why can't we just always use one standard screw type? Are there advantages/disadvantages to the different types? Are there times when one type is preferred over another?\\n\\nHelp me understand why there isn't one screw to rule them all.\\n   \n",
       "\n",
       "     question_user_name                                   question_user_page  \\\n",
       "0                  ysap           https://photo.stackexchange.com/users/1024   \n",
       "1         russellpierce             https://rpg.stackexchange.com/users/8774   \n",
       "2             Joe Baker    https://electronics.stackexchange.com/users/10157   \n",
       "3            Scimonster         https://judaism.stackexchange.com/users/5151   \n",
       "4               leigero  https://graphicdesign.stackexchange.com/users/21313   \n",
       "...                 ...                                                  ...   \n",
       "6074   sixtyfootersdude         https://bicycles.stackexchange.com/users/134   \n",
       "6075                ash       https://bicycles.stackexchange.com/users/14519   \n",
       "6076    Maneating Koala           https://unix.stackexchange.com/users/60445   \n",
       "6077                MrB                  https://mathoverflow.net/users/2189   \n",
       "6078            Doug T.              https://diy.stackexchange.com/users/321   \n",
       "\n",
       "                                                                                                                                                                                                                                                                                                                                                                                                                                                                                                                                                                                                                       answer  \\\n",
       "0     I just got extension tubes, so here's the skinny.\\n\\n\\n  ...what am I losing when using tubes...?\\n\\n\\nA very considerable amount of light!  Increasing that distance from the end of the lens to the sensor can cut your light several stops.  Combined with the fact that you'll usually shoot stopped down - expect to need to increase your ISO considerably.\\n\\nThe fact the macro's are usually considered very very sharp, although I believe that 70-200mm 2.8 is supposed to be quite sharp.\\n\\nThe ultra low distortion typical of many macros.\\n\\nI wouldn't worry too much about the bokeh since the DOF...   \n",
       "1                                                                                                                                                    It might be helpful to look into the definition of spam zone:\\n\\n(p.216) spam zone: An area flooded with invasive and/or viral AR advertising, causing noise.\\n\\nBecause a metroplex has so many marketing targets, it seems a safe assumption that marketers would drown the plex with spam. Spam from the less dense areas would bleed into the urban cores. A smaller city with less urban/suburban territory surrounding it ostensibly wouldn't have as much spam.\\n   \n",
       "2     Do you even need grooves?  We make several products using through-hole components that are intended to mount using VHB double-sided foam tape.  The boards are 0.062\" thick double-sided with PTH and we use a table-top vertical belt sander to bring the component leads almost flush with the solder mask.  In other words, the solder mask isn't touched by the sand paper but the leads are all sanded flat and sitting just proud of the solder mask.\\n\\nThis works well for small boards.\\n\\nFor what it's worth, there are commercial machines available that use a rotary saw blade to do the same thing.  ...   \n",
       "3     Sending an \"affidavit\" it is a dispute between Rashi and Rabbeinu Tam.\\n\\nDevarim 19:15:\\n\\n\\n  לא יקום עד אחד באיש לכל עון ולכל חטאת בכל חטא אשר יחטא על פי שני עדים או על פי שלשה עדים יקום דבר\\n\\n\\nRashi:\\n\\n\\n  ולא שיכתבו עדותם באגרת וישלחו לבית דין\\n  \\n  And not that they write their testimony in a letter and send it to Beis Din\\n\\n\\nTosefos Bava Basra 40a (continued from 39b):\\n\\n\\n  ועוד אומר ר\"י ששמע מן ר\"ת שנוהגים לשלח העדים עדותם באיגרת לב\"ד וחשיב עדות והא דדרשינן בספרי. מפיהם ולא מפי כתבם לא אתא אלא למעוטי דוקא אלם שאינו בר הגדה אבל ראוי להגדה אין הגדה מעכבת בו \\n  \\n  R\"i said t...   \n",
       "4                                                                                                                                                                                                                                                                                                                                                                                  Check out Image Trace in Adobe Illustrator. \\n\\nI like using python and PIL, however.\\n\\nfrom PIL import Image\\nimage_file = Image.open(\"myimage.bmp\") \\nimage_file = image_file.convert('1') # convert\\nimage_file.save('result.bmp')\\n\\n   \n",
       "...                                                                                                                                                                                                                                                                                                                                                                                                                                                                                                                                                                                                                       ...   \n",
       "6074  If you're thinking about wearing a ski helmet for biking, for what it's worth the Snell RS-98 recreational skiing and B-95 biking helmet standards are nearly identical, word for word, including things like visibility requirements and anatomical coverage. There are some small differences in the drop test. The energy of the flat anvil drop test in the B-95 standard is 110J vs. 100J for the RS-98 ski standard.  The hemispherical anvil drop test is 80 J for RS-98 and 72 for B-95. Bike helmets are tested against the point of a right angle \"kerbstone\" anvil, but ski helmets are tested against an...   \n",
       "6075  \\nYou can replace the pads (as stated elsewhere).  There are a lot of variations in pad material, and a faster-wearing pad is not necessarily a better braking pad.  Unfortunately, it's hard to find a good selection of pads, and even harder to get good info on which is suitable to which conditions.\\nYou can use your rear brake more, especially for speed control, and save the front for more \"serious\" efforts.  When I'm on a downhill (rarely as steep/long as yours, though) I like to alternate between front and rear brakes for speed control, and I do it more in bursts rather than with steady p...   \n",
       "6076                                                                                                                                                                                                                                                                                                                                                                                                                                                                                  Maybe help if can be fixes origin of this error. It happened because something write to file with overwrite \">\" not with append \">>\".\\n   \n",
       "6077  As a non-mathematician, I am somewhat mystified by the prevailing norms of the mathematics community as I understand them from this thread. Correct me if I'm wrong, but it sounds like: \\n\\n\\nSupervisors make important intellectual contributions to the thesis work of their students. \\nTypically, the name of the supervisor does not appear on the work. \\n\\n\\nFor example, the most upvoted comment at the moment says \"as a rule the supervisor should not be a co-author in the main paper taken from a student's thesis, even if he has contributed substantially to it.\" (emphasis is mine) Other commen...   \n",
       "6078  First, I really like Eric's answer for practical reasons.  But there is another side to screw head diversity:  Security.\\n\\nIn the end, it's usually a temporary measure.  Once a company invents a new screw, some third party will start selling tools to remove them.  But for a time, any new screw design means the only people who can open your parts are \"certified\" workshops you've given tools to.  Personally I see this a lot in electronic equipment, where the original manufacturer wants some aspect of design kept private or doesn't want after-market mods made to things they sell.  Nintendo i...   \n",
       "\n",
       "     answer_user_name                                     answer_user_page  \\\n",
       "0              rfusca           https://photo.stackexchange.com/users/1917   \n",
       "1        Erik Schmidt             https://rpg.stackexchange.com/users/1871   \n",
       "2         Dwayne Reid    https://electronics.stackexchange.com/users/64754   \n",
       "3       Y     e     z         https://judaism.stackexchange.com/users/4794   \n",
       "4                q2ra  https://graphicdesign.stackexchange.com/users/27160   \n",
       "...               ...                                                  ...   \n",
       "6074         Matt Leo        https://bicycles.stackexchange.com/users/3340   \n",
       "6075   Daniel R Hicks        https://bicycles.stackexchange.com/users/1584   \n",
       "6076         BG Bruno           https://unix.stackexchange.com/users/68208   \n",
       "6077           angela                  https://mathoverflow.net/users/4267   \n",
       "6078         Scivitri              https://diy.stackexchange.com/users/113   \n",
       "\n",
       "                                                                                                                             url  \\\n",
       "0              http://photo.stackexchange.com/questions/9169/what-am-i-losing-when-using-extension-tubes-instead-of-a-macro-lens   \n",
       "1     http://rpg.stackexchange.com/questions/47820/what-is-the-distinction-between-a-city-and-a-sprawl-metroplex-between-downtow   \n",
       "2                 http://electronics.stackexchange.com/questions/154225/maximum-protusion-length-for-through-hole-component-pins   \n",
       "3                                          http://judaism.stackexchange.com/questions/55182/can-an-affidavit-be-used-in-beit-din   \n",
       "4                             http://graphicdesign.stackexchange.com/questions/35791/how-do-you-make-a-binary-image-in-photoshop   \n",
       "...                                                                                                                          ...   \n",
       "6074                                        http://bicycles.stackexchange.com/questions/995/using-a-ski-helmet-for-winter-biking   \n",
       "6075                    http://bicycles.stackexchange.com/questions/25771/adjustment-to-road-bike-brakes-for-high-grade-downhill   \n",
       "6076                             http://unix.stackexchange.com/questions/169054/suppress-file-truncated-messages-when-using-tail   \n",
       "6077                                                                                     http://mathoverflow.net/questions/57337   \n",
       "6078       http://diy.stackexchange.com/questions/2701/why-are-there-so-many-different-types-of-screws-phillps-flat-hex-star-etc   \n",
       "\n",
       "        category  ... question_well_written  answer_helpful  \\\n",
       "0      LIFE_ARTS  ...              1.000000        1.000000   \n",
       "1        CULTURE  ...              0.888889        0.888889   \n",
       "2        SCIENCE  ...              0.777778        0.777778   \n",
       "3        CULTURE  ...              0.888889        0.833333   \n",
       "4      LIFE_ARTS  ...              1.000000        1.000000   \n",
       "...          ...  ...                   ...             ...   \n",
       "6074     CULTURE  ...              0.777778        1.000000   \n",
       "6075     CULTURE  ...              0.777778        0.888889   \n",
       "6076  TECHNOLOGY  ...              0.444444        0.888889   \n",
       "6077     SCIENCE  ...              1.000000        0.888889   \n",
       "6078   LIFE_ARTS  ...              1.000000        0.888889   \n",
       "\n",
       "      answer_level_of_information  answer_plausible  answer_relevance  \\\n",
       "0                        0.666667          1.000000          1.000000   \n",
       "1                        0.555556          0.888889          0.888889   \n",
       "2                        0.555556          1.000000          1.000000   \n",
       "3                        0.333333          0.833333          1.000000   \n",
       "4                        0.666667          1.000000          1.000000   \n",
       "...                           ...               ...               ...   \n",
       "6074                     0.555556          1.000000          1.000000   \n",
       "6075                     0.555556          1.000000          1.000000   \n",
       "6076                     0.555556          0.888889          0.888889   \n",
       "6077                     0.555556          1.000000          1.000000   \n",
       "6078                     0.555556          1.000000          0.888889   \n",
       "\n",
       "      answer_satisfaction  answer_type_instructions  answer_type_procedure  \\\n",
       "0                0.800000                  1.000000               0.000000   \n",
       "1                0.666667                  0.000000               0.000000   \n",
       "2                0.666667                  0.000000               0.333333   \n",
       "3                0.800000                  0.000000               0.000000   \n",
       "4                0.800000                  1.000000               0.000000   \n",
       "...                   ...                       ...                    ...   \n",
       "6074             0.866667                  0.000000               0.000000   \n",
       "6075             0.733333                  0.666667               0.333333   \n",
       "6076             0.800000                  1.000000               0.000000   \n",
       "6077             0.533333                  0.000000               0.333333   \n",
       "6078             0.733333                  0.000000               0.000000   \n",
       "\n",
       "      answer_type_reason_explanation  answer_well_written  \n",
       "0                           0.000000             1.000000  \n",
       "1                           0.666667             0.888889  \n",
       "2                           1.000000             0.888889  \n",
       "3                           1.000000             1.000000  \n",
       "4                           1.000000             1.000000  \n",
       "...                              ...                  ...  \n",
       "6074                        0.000000             0.888889  \n",
       "6075                        0.000000             0.888889  \n",
       "6076                        0.333333             0.555556  \n",
       "6077                        0.666667             1.000000  \n",
       "6078                        1.000000             1.000000  \n",
       "\n",
       "[6079 rows x 41 columns]"
      ]
     },
     "execution_count": 16,
     "metadata": {},
     "output_type": "execute_result"
    }
   ],
   "source": [
    "train_data"
   ]
  },
  {
   "cell_type": "code",
   "execution_count": 19,
   "metadata": {
    "pycharm": {
     "is_executing": false
    }
   },
   "outputs": [],
   "source": [
    "splits = RandomSplitter()(train_data)"
   ]
  },
  {
   "cell_type": "code",
   "execution_count": 22,
   "metadata": {
    "pycharm": {
     "is_executing": false
    }
   },
   "outputs": [
    {
     "data": {
      "text/plain": "<IPython.core.display.HTML object>",
      "text/html": "\n    <div>\n        <style>\n            /* Turns off some styling */\n            progress {\n                /* gets rid of default border in Firefox and Opera. */\n                border: none;\n                /* Needs to be in here for Safari polyfill so background images work as expected. */\n                background-size: auto;\n            }\n            .progress-bar-interrupted, .progress-bar-interrupted::-webkit-progress-bar {\n                background: #F44336;\n            }\n        </style>\n      <progress value='0' class='' max='6079', style='width:300px; height:20px; vertical-align: middle;'></progress>\n      \n    </div>\n    "
     },
     "metadata": {},
     "output_type": "display_data"
    }
   ],
   "source": [
    "df_tokenized,token_count=tokenize_df(train_data,text_columns)\n",
    "x_tfms = [attrgetter(\"text\"), Numericalize(vocab=lm_vocab)]\n",
    "dsrc = DataSource(df_tokenized, splits=splits, tfms=[x_tfms, [attrgetter(\"question_asker_intent_understanding\"), ToTensor()]], dl_type=SortedDL)"
   ]
  },
  {
   "cell_type": "code",
   "execution_count": 23,
   "metadata": {
    "pycharm": {
     "is_executing": false
    }
   },
   "outputs": [],
   "source": [
    "dbunch = dsrc.databunch(before_batch=pad_input, after_batch=Cuda)"
   ]
  },
  {
   "cell_type": "code",
   "execution_count": 25,
   "outputs": [
    {
     "traceback": [
      "\u001b[0;31m---------------------------------------------------------------------------\u001b[0m",
      "\u001b[0;31mAttributeError\u001b[0m                            Traceback (most recent call last)",
      "\u001b[0;32m<ipython-input-25-e80040a245aa>\u001b[0m in \u001b[0;36m<module>\u001b[0;34m\u001b[0m\n\u001b[0;32m----> 1\u001b[0;31m \u001b[0mdbunch\u001b[0m\u001b[0;34m.\u001b[0m\u001b[0mshow_batch\u001b[0m\u001b[0;34m(\u001b[0m\u001b[0mmax_n\u001b[0m\u001b[0;34m=\u001b[0m\u001b[0;36m2\u001b[0m\u001b[0;34m,\u001b[0m\u001b[0mtrunc_at\u001b[0m\u001b[0;34m=\u001b[0m\u001b[0;36m60\u001b[0m\u001b[0;34m)\u001b[0m\u001b[0;34m\u001b[0m\u001b[0;34m\u001b[0m\u001b[0m\n\u001b[0m\u001b[1;32m      2\u001b[0m \u001b[0;34m\u001b[0m\u001b[0m\n",
      "\u001b[0;32m~/projetos/fastai2/fastai2/data/core.py\u001b[0m in \u001b[0;36mshow_batch\u001b[0;34m(self, b, max_n, ctxs, show, **kwargs)\u001b[0m\n\u001b[1;32m     77\u001b[0m         \u001b[0;32mif\u001b[0m \u001b[0mb\u001b[0m \u001b[0;32mis\u001b[0m \u001b[0;32mNone\u001b[0m\u001b[0;34m:\u001b[0m \u001b[0mb\u001b[0m \u001b[0;34m=\u001b[0m \u001b[0mself\u001b[0m\u001b[0;34m.\u001b[0m\u001b[0mone_batch\u001b[0m\u001b[0;34m(\u001b[0m\u001b[0;34m)\u001b[0m\u001b[0;34m\u001b[0m\u001b[0;34m\u001b[0m\u001b[0m\n\u001b[1;32m     78\u001b[0m         \u001b[0;32mif\u001b[0m \u001b[0;32mnot\u001b[0m \u001b[0mshow\u001b[0m\u001b[0;34m:\u001b[0m \u001b[0;32mreturn\u001b[0m \u001b[0mself\u001b[0m\u001b[0;34m.\u001b[0m\u001b[0m_pre_show_batch\u001b[0m\u001b[0;34m(\u001b[0m\u001b[0mb\u001b[0m\u001b[0;34m,\u001b[0m \u001b[0mmax_n\u001b[0m\u001b[0;34m=\u001b[0m\u001b[0mmax_n\u001b[0m\u001b[0;34m)\u001b[0m\u001b[0;34m\u001b[0m\u001b[0;34m\u001b[0m\u001b[0m\n\u001b[0;32m---> 79\u001b[0;31m         \u001b[0mshow_batch\u001b[0m\u001b[0;34m(\u001b[0m\u001b[0;34m*\u001b[0m\u001b[0mself\u001b[0m\u001b[0;34m.\u001b[0m\u001b[0m_pre_show_batch\u001b[0m\u001b[0;34m(\u001b[0m\u001b[0mb\u001b[0m\u001b[0;34m,\u001b[0m \u001b[0mmax_n\u001b[0m\u001b[0;34m=\u001b[0m\u001b[0mmax_n\u001b[0m\u001b[0;34m)\u001b[0m\u001b[0;34m,\u001b[0m \u001b[0mctxs\u001b[0m\u001b[0;34m=\u001b[0m\u001b[0mctxs\u001b[0m\u001b[0;34m,\u001b[0m \u001b[0mmax_n\u001b[0m\u001b[0;34m=\u001b[0m\u001b[0mmax_n\u001b[0m\u001b[0;34m,\u001b[0m \u001b[0;34m**\u001b[0m\u001b[0mkwargs\u001b[0m\u001b[0;34m)\u001b[0m\u001b[0;34m\u001b[0m\u001b[0;34m\u001b[0m\u001b[0m\n\u001b[0m\u001b[1;32m     80\u001b[0m \u001b[0;34m\u001b[0m\u001b[0m\n\u001b[1;32m     81\u001b[0m     \u001b[0;32mdef\u001b[0m \u001b[0mshow_results\u001b[0m\u001b[0;34m(\u001b[0m\u001b[0mself\u001b[0m\u001b[0;34m,\u001b[0m \u001b[0mb\u001b[0m\u001b[0;34m,\u001b[0m \u001b[0mout\u001b[0m\u001b[0;34m,\u001b[0m \u001b[0mmax_n\u001b[0m\u001b[0;34m=\u001b[0m\u001b[0;36m9\u001b[0m\u001b[0;34m,\u001b[0m \u001b[0mctxs\u001b[0m\u001b[0;34m=\u001b[0m\u001b[0;32mNone\u001b[0m\u001b[0;34m,\u001b[0m \u001b[0mshow\u001b[0m\u001b[0;34m=\u001b[0m\u001b[0;32mTrue\u001b[0m\u001b[0;34m,\u001b[0m \u001b[0;34m**\u001b[0m\u001b[0mkwargs\u001b[0m\u001b[0;34m)\u001b[0m\u001b[0;34m:\u001b[0m\u001b[0;34m\u001b[0m\u001b[0;34m\u001b[0m\u001b[0m\n",
      "\u001b[0;32m~/projetos/fastcore/fastcore/dispatch.py\u001b[0m in \u001b[0;36m__call__\u001b[0;34m(self, *args, **kwargs)\u001b[0m\n\u001b[1;32m     96\u001b[0m         \u001b[0;32mif\u001b[0m \u001b[0;32mnot\u001b[0m \u001b[0mf\u001b[0m\u001b[0;34m:\u001b[0m \u001b[0;32mreturn\u001b[0m \u001b[0margs\u001b[0m\u001b[0;34m[\u001b[0m\u001b[0;36m0\u001b[0m\u001b[0;34m]\u001b[0m\u001b[0;34m\u001b[0m\u001b[0;34m\u001b[0m\u001b[0m\n\u001b[1;32m     97\u001b[0m         \u001b[0;32mif\u001b[0m \u001b[0mself\u001b[0m\u001b[0;34m.\u001b[0m\u001b[0minst\u001b[0m \u001b[0;32mis\u001b[0m \u001b[0;32mnot\u001b[0m \u001b[0;32mNone\u001b[0m\u001b[0;34m:\u001b[0m \u001b[0mf\u001b[0m \u001b[0;34m=\u001b[0m \u001b[0mMethodType\u001b[0m\u001b[0;34m(\u001b[0m\u001b[0mf\u001b[0m\u001b[0;34m,\u001b[0m \u001b[0mself\u001b[0m\u001b[0;34m.\u001b[0m\u001b[0minst\u001b[0m\u001b[0;34m)\u001b[0m\u001b[0;34m\u001b[0m\u001b[0;34m\u001b[0m\u001b[0m\n\u001b[0;32m---> 98\u001b[0;31m         \u001b[0;32mreturn\u001b[0m \u001b[0mf\u001b[0m\u001b[0;34m(\u001b[0m\u001b[0;34m*\u001b[0m\u001b[0margs\u001b[0m\u001b[0;34m,\u001b[0m \u001b[0;34m**\u001b[0m\u001b[0mkwargs\u001b[0m\u001b[0;34m)\u001b[0m\u001b[0;34m\u001b[0m\u001b[0;34m\u001b[0m\u001b[0m\n\u001b[0m\u001b[1;32m     99\u001b[0m \u001b[0;34m\u001b[0m\u001b[0m\n\u001b[1;32m    100\u001b[0m     \u001b[0;32mdef\u001b[0m \u001b[0m__get__\u001b[0m\u001b[0;34m(\u001b[0m\u001b[0mself\u001b[0m\u001b[0;34m,\u001b[0m \u001b[0minst\u001b[0m\u001b[0;34m,\u001b[0m \u001b[0mowner\u001b[0m\u001b[0;34m)\u001b[0m\u001b[0;34m:\u001b[0m\u001b[0;34m\u001b[0m\u001b[0;34m\u001b[0m\u001b[0m\n",
      "\u001b[0;32m~/projetos/fastai2/fastai2/text/data.py\u001b[0m in \u001b[0;36mshow_batch\u001b[0;34m(x, y, samples, ctxs, max_n, trunc_at, **kwargs)\u001b[0m\n\u001b[1;32m     85\u001b[0m     \u001b[0;32mif\u001b[0m \u001b[0mctxs\u001b[0m \u001b[0;32mis\u001b[0m \u001b[0;32mNone\u001b[0m\u001b[0;34m:\u001b[0m \u001b[0mctxs\u001b[0m \u001b[0;34m=\u001b[0m \u001b[0mget_empty_df\u001b[0m\u001b[0;34m(\u001b[0m\u001b[0mmin\u001b[0m\u001b[0;34m(\u001b[0m\u001b[0mlen\u001b[0m\u001b[0;34m(\u001b[0m\u001b[0msamples\u001b[0m\u001b[0;34m)\u001b[0m\u001b[0;34m,\u001b[0m \u001b[0mmax_n\u001b[0m\u001b[0;34m)\u001b[0m\u001b[0;34m)\u001b[0m\u001b[0;34m\u001b[0m\u001b[0;34m\u001b[0m\u001b[0m\n\u001b[1;32m     86\u001b[0m     \u001b[0msamples\u001b[0m \u001b[0;34m=\u001b[0m \u001b[0mL\u001b[0m\u001b[0;34m(\u001b[0m\u001b[0;34m(\u001b[0m\u001b[0ms\u001b[0m\u001b[0;34m[\u001b[0m\u001b[0;36m0\u001b[0m\u001b[0;34m]\u001b[0m\u001b[0;34m.\u001b[0m\u001b[0mtruncate\u001b[0m\u001b[0;34m(\u001b[0m\u001b[0mtrunc_at\u001b[0m\u001b[0;34m)\u001b[0m\u001b[0;34m,\u001b[0m\u001b[0;34m*\u001b[0m\u001b[0ms\u001b[0m\u001b[0;34m[\u001b[0m\u001b[0;36m1\u001b[0m\u001b[0;34m:\u001b[0m\u001b[0;34m]\u001b[0m\u001b[0;34m)\u001b[0m \u001b[0;32mfor\u001b[0m \u001b[0ms\u001b[0m \u001b[0;32min\u001b[0m \u001b[0msamples\u001b[0m\u001b[0;34m)\u001b[0m\u001b[0;34m\u001b[0m\u001b[0;34m\u001b[0m\u001b[0m\n\u001b[0;32m---> 87\u001b[0;31m     \u001b[0mctxs\u001b[0m \u001b[0;34m=\u001b[0m \u001b[0mshow_batch\u001b[0m\u001b[0;34m[\u001b[0m\u001b[0mobject\u001b[0m\u001b[0;34m]\u001b[0m\u001b[0;34m(\u001b[0m\u001b[0mx\u001b[0m\u001b[0;34m,\u001b[0m \u001b[0my\u001b[0m\u001b[0;34m,\u001b[0m \u001b[0msamples\u001b[0m\u001b[0;34m,\u001b[0m \u001b[0mmax_n\u001b[0m\u001b[0;34m=\u001b[0m\u001b[0mmax_n\u001b[0m\u001b[0;34m,\u001b[0m \u001b[0mctxs\u001b[0m\u001b[0;34m=\u001b[0m\u001b[0mctxs\u001b[0m\u001b[0;34m,\u001b[0m \u001b[0;34m**\u001b[0m\u001b[0mkwargs\u001b[0m\u001b[0;34m)\u001b[0m\u001b[0;34m\u001b[0m\u001b[0;34m\u001b[0m\u001b[0m\n\u001b[0m\u001b[1;32m     88\u001b[0m     \u001b[0mdisplay_df\u001b[0m\u001b[0;34m(\u001b[0m\u001b[0mpd\u001b[0m\u001b[0;34m.\u001b[0m\u001b[0mDataFrame\u001b[0m\u001b[0;34m(\u001b[0m\u001b[0mctxs\u001b[0m\u001b[0;34m)\u001b[0m\u001b[0;34m)\u001b[0m\u001b[0;34m\u001b[0m\u001b[0;34m\u001b[0m\u001b[0m\n\u001b[1;32m     89\u001b[0m     \u001b[0;32mreturn\u001b[0m \u001b[0mctxs\u001b[0m\u001b[0;34m\u001b[0m\u001b[0;34m\u001b[0m\u001b[0m\n",
      "\u001b[0;32m~/projetos/fastai2/fastai2/data/core.py\u001b[0m in \u001b[0;36mshow_batch\u001b[0;34m(x, y, samples, ctxs, max_n, **kwargs)\u001b[0m\n\u001b[1;32m     13\u001b[0m     \u001b[0;32mif\u001b[0m \u001b[0mctxs\u001b[0m \u001b[0;32mis\u001b[0m \u001b[0;32mNone\u001b[0m\u001b[0;34m:\u001b[0m \u001b[0mctxs\u001b[0m \u001b[0;34m=\u001b[0m \u001b[0mInf\u001b[0m\u001b[0;34m.\u001b[0m\u001b[0mnones\u001b[0m\u001b[0;34m\u001b[0m\u001b[0;34m\u001b[0m\u001b[0m\n\u001b[1;32m     14\u001b[0m     \u001b[0;32mfor\u001b[0m \u001b[0mi\u001b[0m \u001b[0;32min\u001b[0m \u001b[0mrange_of\u001b[0m\u001b[0;34m(\u001b[0m\u001b[0msamples\u001b[0m\u001b[0;34m[\u001b[0m\u001b[0;36m0\u001b[0m\u001b[0;34m]\u001b[0m\u001b[0;34m)\u001b[0m\u001b[0;34m:\u001b[0m\u001b[0;34m\u001b[0m\u001b[0;34m\u001b[0m\u001b[0m\n\u001b[0;32m---> 15\u001b[0;31m         \u001b[0mctxs\u001b[0m \u001b[0;34m=\u001b[0m \u001b[0;34m[\u001b[0m\u001b[0mb\u001b[0m\u001b[0;34m.\u001b[0m\u001b[0mshow\u001b[0m\u001b[0;34m(\u001b[0m\u001b[0mctx\u001b[0m\u001b[0;34m=\u001b[0m\u001b[0mc\u001b[0m\u001b[0;34m,\u001b[0m \u001b[0;34m**\u001b[0m\u001b[0mkwargs\u001b[0m\u001b[0;34m)\u001b[0m \u001b[0;32mfor\u001b[0m \u001b[0mb\u001b[0m\u001b[0;34m,\u001b[0m\u001b[0mc\u001b[0m\u001b[0;34m,\u001b[0m\u001b[0m_\u001b[0m \u001b[0;32min\u001b[0m \u001b[0mzip\u001b[0m\u001b[0;34m(\u001b[0m\u001b[0msamples\u001b[0m\u001b[0;34m.\u001b[0m\u001b[0mitemgot\u001b[0m\u001b[0;34m(\u001b[0m\u001b[0mi\u001b[0m\u001b[0;34m)\u001b[0m\u001b[0;34m,\u001b[0m\u001b[0mctxs\u001b[0m\u001b[0;34m,\u001b[0m\u001b[0mrange\u001b[0m\u001b[0;34m(\u001b[0m\u001b[0mmax_n\u001b[0m\u001b[0;34m)\u001b[0m\u001b[0;34m)\u001b[0m\u001b[0;34m]\u001b[0m\u001b[0;34m\u001b[0m\u001b[0;34m\u001b[0m\u001b[0m\n\u001b[0m\u001b[1;32m     16\u001b[0m     \u001b[0;32mreturn\u001b[0m \u001b[0mctxs\u001b[0m\u001b[0;34m\u001b[0m\u001b[0;34m\u001b[0m\u001b[0m\n\u001b[1;32m     17\u001b[0m \u001b[0;34m\u001b[0m\u001b[0m\n",
      "\u001b[0;32m~/projetos/fastai2/fastai2/data/core.py\u001b[0m in \u001b[0;36m<listcomp>\u001b[0;34m(.0)\u001b[0m\n\u001b[1;32m     13\u001b[0m     \u001b[0;32mif\u001b[0m \u001b[0mctxs\u001b[0m \u001b[0;32mis\u001b[0m \u001b[0;32mNone\u001b[0m\u001b[0;34m:\u001b[0m \u001b[0mctxs\u001b[0m \u001b[0;34m=\u001b[0m \u001b[0mInf\u001b[0m\u001b[0;34m.\u001b[0m\u001b[0mnones\u001b[0m\u001b[0;34m\u001b[0m\u001b[0;34m\u001b[0m\u001b[0m\n\u001b[1;32m     14\u001b[0m     \u001b[0;32mfor\u001b[0m \u001b[0mi\u001b[0m \u001b[0;32min\u001b[0m \u001b[0mrange_of\u001b[0m\u001b[0;34m(\u001b[0m\u001b[0msamples\u001b[0m\u001b[0;34m[\u001b[0m\u001b[0;36m0\u001b[0m\u001b[0;34m]\u001b[0m\u001b[0;34m)\u001b[0m\u001b[0;34m:\u001b[0m\u001b[0;34m\u001b[0m\u001b[0;34m\u001b[0m\u001b[0m\n\u001b[0;32m---> 15\u001b[0;31m         \u001b[0mctxs\u001b[0m \u001b[0;34m=\u001b[0m \u001b[0;34m[\u001b[0m\u001b[0mb\u001b[0m\u001b[0;34m.\u001b[0m\u001b[0mshow\u001b[0m\u001b[0;34m(\u001b[0m\u001b[0mctx\u001b[0m\u001b[0;34m=\u001b[0m\u001b[0mc\u001b[0m\u001b[0;34m,\u001b[0m \u001b[0;34m**\u001b[0m\u001b[0mkwargs\u001b[0m\u001b[0;34m)\u001b[0m \u001b[0;32mfor\u001b[0m \u001b[0mb\u001b[0m\u001b[0;34m,\u001b[0m\u001b[0mc\u001b[0m\u001b[0;34m,\u001b[0m\u001b[0m_\u001b[0m \u001b[0;32min\u001b[0m \u001b[0mzip\u001b[0m\u001b[0;34m(\u001b[0m\u001b[0msamples\u001b[0m\u001b[0;34m.\u001b[0m\u001b[0mitemgot\u001b[0m\u001b[0;34m(\u001b[0m\u001b[0mi\u001b[0m\u001b[0;34m)\u001b[0m\u001b[0;34m,\u001b[0m\u001b[0mctxs\u001b[0m\u001b[0;34m,\u001b[0m\u001b[0mrange\u001b[0m\u001b[0;34m(\u001b[0m\u001b[0mmax_n\u001b[0m\u001b[0;34m)\u001b[0m\u001b[0;34m)\u001b[0m\u001b[0;34m]\u001b[0m\u001b[0;34m\u001b[0m\u001b[0;34m\u001b[0m\u001b[0m\n\u001b[0m\u001b[1;32m     16\u001b[0m     \u001b[0;32mreturn\u001b[0m \u001b[0mctxs\u001b[0m\u001b[0;34m\u001b[0m\u001b[0;34m\u001b[0m\u001b[0m\n\u001b[1;32m     17\u001b[0m \u001b[0;34m\u001b[0m\u001b[0m\n",
      "\u001b[0;31mAttributeError\u001b[0m: 'Tensor' object has no attribute 'show'"
     ],
     "ename": "AttributeError",
     "evalue": "'Tensor' object has no attribute 'show'",
     "output_type": "error"
    }
   ],
   "source": [
    "dbunch.show_batch(max_n=2,trunc_at=60)"
   ],
   "metadata": {
    "collapsed": false,
    "pycharm": {
     "name": "#%%\n",
     "is_executing": false
    }
   }
  },
  {
   "cell_type": "code",
   "execution_count": null,
   "outputs": [],
   "source": [
    "\n"
   ],
   "metadata": {
    "collapsed": false,
    "pycharm": {
     "name": "#%%\n"
    }
   }
  }
 ],
 "metadata": {
  "kernelspec": {
   "display_name": "Python 3",
   "language": "python",
   "name": "python3"
  },
  "language_info": {
   "codemirror_mode": {
    "name": "ipython",
    "version": 3
   },
   "file_extension": ".py",
   "mimetype": "text/x-python",
   "name": "python",
   "nbconvert_exporter": "python",
   "pygments_lexer": "ipython3",
   "version": "3.7.6"
  },
  "pycharm": {
   "stem_cell": {
    "cell_type": "raw",
    "source": [],
    "metadata": {
     "collapsed": false
    }
   }
  }
 },
 "nbformat": 4,
 "nbformat_minor": 2
}